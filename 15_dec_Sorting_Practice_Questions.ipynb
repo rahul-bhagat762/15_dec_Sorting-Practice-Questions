{
 "cells": [
  {
   "cell_type": "code",
   "execution_count": 3,
   "id": "6637bbba-3d5d-49c1-bbfe-328538d82f2f",
   "metadata": {},
   "outputs": [],
   "source": [
    "# Problem 1.Given an array of n numbers, give an algorithm which gives the element appearing maximum\n",
    "# number of times?\n",
    "def search_max_time_ele(arr):\n",
    "    arr.sort()\n",
    "    count = 1\n",
    "    maxi_ele = arr[0]\n",
    "    maxi = -1\n",
    "    for i in range(len(arr)-1):\n",
    "        if(arr[i]==arr[i+1]):\n",
    "            count+=1\n",
    "            maxi_ele = arr[i]\n",
    "        if(count>maxi):\n",
    "            maxi = count\n",
    "            \n",
    "            \n",
    "    return f\"this element {maxi_ele} is {maxi} time occure in this array\""
   ]
  },
  {
   "cell_type": "code",
   "execution_count": 4,
   "id": "1bff465d-93bf-4ac6-b0ed-984fd488e627",
   "metadata": {},
   "outputs": [
    {
     "name": "stdout",
     "output_type": "stream",
     "text": [
      "this element 5 is 4 time occure in this array\n"
     ]
    }
   ],
   "source": [
    "arr = [1,2,3,5,5,5,6,3]\n",
    "print(search_max_time_ele(arr))"
   ]
  },
  {
   "cell_type": "code",
   "execution_count": 6,
   "id": "18d5d3b5-cf3d-4365-ac0f-0086e5b6d5b0",
   "metadata": {},
   "outputs": [
    {
     "name": "stdout",
     "output_type": "stream",
     "text": [
      "5\n"
     ]
    }
   ],
   "source": [
    "# # Problem 2 : We are given a list of n-1 integers and these integers are in the range of 1 to n . There are no\n",
    "# duplicates in the list. One of the integers is missing in the list. Give an algorithm to find that element Ex:\n",
    "# [1,2,4,6,3,7,8] 5 is the missing num.\n",
    "\n",
    "##basically there are two type of sollutions are occure \n",
    "# first one is without any loop \n",
    "# def problem_2_a(arr):\n",
    "#     n = len(arr)+1\n",
    "#     total = (n*(n+1)/2)\n",
    "#     local = sum(arr)\n",
    "#     return total - local\n",
    "arr = [1,2,4,6,3,7,8]\n",
    "# print(int(problem_2_a(arr)))\n",
    "\n",
    "# second one is with a loop\n",
    "def problem_2_b(arr):\n",
    "    arr.sort()\n",
    "    for i in range (len(arr)-1):\n",
    "        if(arr[i]!=arr[i+1]-1):\n",
    "            return arr[i]+1\n",
    "    return -1\n",
    "print(int(problem_2_b(arr)))\n",
    "\n"
   ]
  },
  {
   "cell_type": "code",
   "execution_count": 8,
   "id": "62d472e5-759b-4477-9caf-77205d814cae",
   "metadata": {},
   "outputs": [
    {
     "name": "stdout",
     "output_type": "stream",
     "text": [
      "3\n"
     ]
    }
   ],
   "source": [
    "# Problem 3 : Given an array of n positive numbers. All numbers occurs even number of times except 1 which\n",
    "# occurs odd number of times. Find that number in O(n) time and O(1) space. Ex: [1,2,3,2,3,1,3]. 3 is repeats odd\n",
    "# times.\n",
    "##with the use of sorting \n",
    "def problem3_a(arr):\n",
    "    arr.sort()\n",
    "    count = 1\n",
    "    for i in range(len(arr)-1):\n",
    "        if(arr[i]==arr[i+1]):\n",
    "            count+=1\n",
    "        if(count%2==1):\n",
    "            return arr[i]\n",
    "        if(arr[i]!=arr[i+1]):\n",
    "            count = 1\n",
    "\n",
    "##without use of sorting\n",
    "# def problem3(arr):\n",
    "#     result = 0\n",
    "#     for i in arr:\n",
    "#         result^=i\n",
    "#     return result\n",
    "arr = [1,2,3,2,3,1,3]\n",
    "print(problem3_a(arr))\n",
    "        "
   ]
  },
  {
   "cell_type": "code",
   "execution_count": 22,
   "id": "4fea028a-e4ad-4ba4-b609-74032c0fb675",
   "metadata": {},
   "outputs": [],
   "source": [
    "# Problem 4 : Given an array of n elements. Find two elements in the array such that their sum is equal to given\n",
    "# element K.\n",
    "def Problem_4(arr,k):\n",
    "    arr.sort()\n",
    "    n = len(arr)\n",
    "    i = 0\n",
    "    j = n-1;\n",
    "    while(i<=n and j>=0):\n",
    "        sum = arr[i]+arr[j]\n",
    "        if(sum==k):\n",
    "            return arr[i],arr[j]\n",
    "        elif(k<sum):\n",
    "            j-=1\n",
    "        else:\n",
    "            i+=1\n",
    "    return -1\n"
   ]
  },
  {
   "cell_type": "code",
   "execution_count": 23,
   "id": "6d6328fb-990e-498e-b187-c21f593538fa",
   "metadata": {},
   "outputs": [
    {
     "name": "stdout",
     "output_type": "stream",
     "text": [
      "(4, 6)\n"
     ]
    }
   ],
   "source": [
    "print(Problem_4(arr=[2,3,4,6,9,5,6,],k=10))"
   ]
  },
  {
   "cell_type": "code",
   "execution_count": 28,
   "id": "081ae491-0e8a-48cc-865c-c86d100d94b8",
   "metadata": {},
   "outputs": [],
   "source": [
    "# Problem 5 : Given an array of both positive and negative numbers, find two numbers such that their sum is\n",
    "# closest to 0. Ex: [ 1 ,60 ,-10, 70, -80,85]. Ans : -80,85.\n",
    "def problem_5(arr):\n",
    "    arr.sort()\n",
    "    n = len(arr)\n",
    "    i = 0\n",
    "    j = n-1\n",
    "    ans = 9999\n",
    "    while(i<j):\n",
    "        sum = arr[i]+arr[j]\n",
    "        if(sum<ans):\n",
    "            ans = sum\n",
    "            i1 = arr[i]\n",
    "            j1 = arr[j]\n",
    "        i+=1\n",
    "        j-=1\n",
    "    return i1,j1\n",
    "        "
   ]
  },
  {
   "cell_type": "code",
   "execution_count": 29,
   "id": "e4f9deea-926d-48a0-9886-140b22e74faa",
   "metadata": {},
   "outputs": [
    {
     "data": {
      "text/plain": [
       "(-80, 85)"
      ]
     },
     "execution_count": 29,
     "metadata": {},
     "output_type": "execute_result"
    }
   ],
   "source": [
    "problem_5(arr=[1,60,-10,70,-80,85])"
   ]
  },
  {
   "cell_type": "code",
   "execution_count": 51,
   "id": "63c40c75-de03-4129-ab4f-334f7c9505a9",
   "metadata": {},
   "outputs": [],
   "source": [
    "# Problem 6 : Given an array of n elements . Find three elements such that their sum is equal to the given\n",
    "# number.\n",
    "def find_ele_sum_3(arr,k):\n",
    "    n = len(arr)\n",
    "    arr.sort()\n",
    "    for i in range(n-2):\n",
    "        left = i + 1\n",
    "        right = n-1\n",
    "        while(left<right):\n",
    "            sum = arr[i]+arr[left]+arr[right]\n",
    "            if(sum==k):\n",
    "                return [arr[i],arr[left],arr[right]]\n",
    "            elif(sum>k):\n",
    "                right -=1\n",
    "            else:\n",
    "                left +=1\n",
    "    return -1\n",
    "                "
   ]
  },
  {
   "cell_type": "code",
   "execution_count": 52,
   "id": "019902b5-90fc-4b94-8c4b-d7b4176faf46",
   "metadata": {},
   "outputs": [
    {
     "data": {
      "text/plain": [
       "[2, 4, 6]"
      ]
     },
     "execution_count": 52,
     "metadata": {},
     "output_type": "execute_result"
    }
   ],
   "source": [
    "find_ele_sum_3(arr=[2,3,4,6,9,5,6,],k=12)"
   ]
  },
  {
   "cell_type": "code",
   "execution_count": 1,
   "id": "4692abdc-4e1c-4c15-ae7c-2ff19e5e0b20",
   "metadata": {},
   "outputs": [],
   "source": [
    "# Problem 7 : Given an array of n elements . Find three elements i, j, k in the array such that\n",
    "# i * i + j * j = k*k.\n",
    "def problem_7(arr):\n",
    "    n = len(arr)\n",
    "    arr.sort()\n",
    "    for i in range(n-2):\n",
    "        left = i + 1\n",
    "        right = n-1\n",
    "        while(left<right):\n",
    "            # sum = arr[i]+arr[left]+arr[right]\n",
    "            ans = (arr[i]**2)+(arr[left]**2)\n",
    "            if(ans==arr[right]**2):\n",
    "                return [arr[i],arr[left],arr[right]]\n",
    "            elif(ans<arr[right]**2):\n",
    "                right -=1\n",
    "            else:\n",
    "                left +=1\n",
    "    return -1\n",
    "                "
   ]
  },
  {
   "cell_type": "code",
   "execution_count": 3,
   "id": "34755d30-1775-409d-81be-a18a88807700",
   "metadata": {},
   "outputs": [
    {
     "data": {
      "text/plain": [
       "[3, 4, 5]"
      ]
     },
     "execution_count": 3,
     "metadata": {},
     "output_type": "execute_result"
    }
   ],
   "source": [
    "problem_7(arr = [2,3,4,6,9,5,6])"
   ]
  },
  {
   "cell_type": "code",
   "execution_count": 42,
   "id": "dc5bca71-5f4e-4c3e-a2e6-a9e146ec8d04",
   "metadata": {},
   "outputs": [],
   "source": [
    "# Problem 8 : An element is a majority if it appears more than n/2 times. Give an algorithm takes an array of n\n",
    "# element as argument and identifies a majority (if it exists).\n",
    "\n",
    "# without using dictionary\n",
    "def problem_8(arr):\n",
    "    arr.sort()\n",
    "    candi = None\n",
    "    count = 0\n",
    "    for i in arr:\n",
    "        if(count==0):\n",
    "            candi = i\n",
    "            count = 1\n",
    "        elif(i==candi):\n",
    "            count+=1\n",
    "        else:\n",
    "            count-=1\n",
    "    ##Now verify \n",
    "    for j in arr:\n",
    "        if(j==candi):\n",
    "            count+=1\n",
    "    if(count>len(arr)//2):\n",
    "        return candi\n",
    "    else:\n",
    "        return -1\n",
    "    \n",
    "# with using dictionary\n",
    "# from collections import Counter\n",
    "# def problem_8(arr):\n",
    "#     dict_ele = Counter(arr)\n",
    "#     # original_dict = dict(dict_ele)\n",
    "#     for ele,count in dict_ele.items():\n",
    "#         if(count>len(arr)//2):\n",
    "#             return ele\n",
    "#     return -1"
   ]
  },
  {
   "cell_type": "code",
   "execution_count": 43,
   "id": "b14bfcde-02f7-4a3f-963c-7cad3e41acc3",
   "metadata": {},
   "outputs": [
    {
     "data": {
      "text/plain": [
       "2"
      ]
     },
     "execution_count": 43,
     "metadata": {},
     "output_type": "execute_result"
    }
   ],
   "source": [
    "problem_8(arr = [1,2,3,2,2,5,2,2])"
   ]
  },
  {
   "cell_type": "code",
   "execution_count": 1,
   "id": "2008a7c7-af30-481c-b8c7-fc70cf324e43",
   "metadata": {},
   "outputs": [],
   "source": [
    "# Problem 9 : Given n × n matrix, and in each row all 1’s are followed by 0’s. Find the row with the maximum\n",
    "# number of 0’s.\n",
    "\n",
    "def problem_9(matrix):\n",
    "    max_zeros_row = -1  # Initialize with an invalid row index\n",
    "    max_zeros_count = -1  # Initialize with a count less than zero\n",
    "\n",
    "    for i, row in enumerate(matrix):\n",
    "        zeros_count = row.count(0)\n",
    "\n",
    "        if zeros_count > max_zeros_count:\n",
    "            max_zeros_count = zeros_count\n",
    "            max_zeros_row = i\n",
    "\n",
    "    return max_zeros_row"
   ]
  },
  {
   "cell_type": "code",
   "execution_count": 2,
   "id": "f7226626-ed73-41c7-b915-ad744d3346b7",
   "metadata": {},
   "outputs": [
    {
     "data": {
      "text/plain": [
       "2"
      ]
     },
     "execution_count": 2,
     "metadata": {},
     "output_type": "execute_result"
    }
   ],
   "source": [
    "arr = [\n",
    "    [1, 1, 1, 0, 0],\n",
    "    [1, 1, 0, 0, 0],\n",
    "    [1, 0, 0, 0, 0],\n",
    "    [1, 1, 1, 1, 0],\n",
    "    [1, 1, 1, 0, 0]\n",
    "]\n",
    "problem_9(arr)"
   ]
  },
  {
   "cell_type": "code",
   "execution_count": 3,
   "id": "4cf41bb2-e65e-4976-a42c-92fc124bb6cc",
   "metadata": {},
   "outputs": [],
   "source": [
    "# Problem 10 : Sort an array of 0’s, 1’s and 2’s [or R’s, G’s and B’s]: Given an array A[] consisting of 0’s, 1’s and\n",
    "# 2’s, give an algorithm for sorting A[].The algorithm should put all 0’s first, then all 1’s and finally all 2’s at the\n",
    "# end. Example Input = {0,1,1,0,1,2,1,2,0,0,0,1}, Output = {0,0,0,0,0,1,1,1,1,1,2,2}\n",
    "\n",
    "def insertion_sort(arr):\n",
    "    for i in range(1,len(arr)):\n",
    "        v = arr[i]\n",
    "        j = i\n",
    "        while(j>=1 and arr[j-1]>v):\n",
    "            arr[j]=arr[j-1]\n",
    "            j-=1\n",
    "        arr[j] = v\n",
    "    return arr"
   ]
  },
  {
   "cell_type": "code",
   "execution_count": 4,
   "id": "8aaea3fd-32b9-4194-a81c-dc5a01473832",
   "metadata": {},
   "outputs": [
    {
     "data": {
      "text/plain": [
       "[0, 0, 0, 0, 0, 1, 1, 1, 1, 1, 2, 2]"
      ]
     },
     "execution_count": 4,
     "metadata": {},
     "output_type": "execute_result"
    }
   ],
   "source": [
    "insertion_sort([0,1,1,0,1,2,1,2,0,0,0,1])"
   ]
  },
  {
   "cell_type": "code",
   "execution_count": null,
   "id": "e84dd3da-7b0a-4f4e-8663-54da3712899d",
   "metadata": {},
   "outputs": [],
   "source": []
  },
  {
   "cell_type": "code",
   "execution_count": null,
   "id": "109c44c3-46aa-4961-9720-32200954c164",
   "metadata": {},
   "outputs": [],
   "source": []
  },
  {
   "cell_type": "code",
   "execution_count": null,
   "id": "8a790de4-9724-473f-86e4-cba6b4275267",
   "metadata": {},
   "outputs": [],
   "source": []
  }
 ],
 "metadata": {
  "kernelspec": {
   "display_name": "Python 3 (ipykernel)",
   "language": "python",
   "name": "python3"
  },
  "language_info": {
   "codemirror_mode": {
    "name": "ipython",
    "version": 3
   },
   "file_extension": ".py",
   "mimetype": "text/x-python",
   "name": "python",
   "nbconvert_exporter": "python",
   "pygments_lexer": "ipython3",
   "version": "3.10.8"
  }
 },
 "nbformat": 4,
 "nbformat_minor": 5
}
